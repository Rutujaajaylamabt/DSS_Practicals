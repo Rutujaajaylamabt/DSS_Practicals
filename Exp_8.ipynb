{
 "cells": [
  {
   "cell_type": "markdown",
   "id": "4c84879e-fb17-4d98-9eae-0cb0e84f9352",
   "metadata": {},
   "source": [
    "# Central Tendency of Measures"
   ]
  },
  {
   "cell_type": "code",
   "execution_count": null,
   "id": "7d10d702-012c-4a7f-abc5-6695a6aa7a8e",
   "metadata": {},
   "outputs": [],
   "source": [
    "#Exp no:08"
   ]
  },
  {
   "cell_type": "code",
   "execution_count": null,
   "id": "2b3f1b4e-30a4-47a4-a250-a4dd932ed12a",
   "metadata": {},
   "outputs": [],
   "source": [
    "#Aim : To perform Central Tendency of Measures"
   ]
  },
  {
   "cell_type": "code",
   "execution_count": 79,
   "id": "c2a0bf1e-7670-4a3b-81c1-c93ad9cb166d",
   "metadata": {},
   "outputs": [],
   "source": [
    "#Name: Rutuja Ajay Lambat\n",
    "#Roll No.:12\n",
    "#Sec: B\n",
    "#Subject:ET - 1"
   ]
  },
  {
   "cell_type": "code",
   "execution_count": 7,
   "id": "76c5d3e6-e7da-408e-a945-278688a01d94",
   "metadata": {},
   "outputs": [],
   "source": [
    "Age=[21,20,19,22,20,23,21,22,21,22,22,22,19,20,25,24,20,25,24,23,22,21,20,22]"
   ]
  },
  {
   "cell_type": "code",
   "execution_count": 9,
   "id": "32d5aecd-9ee5-4192-8d52-2c70c13f511d",
   "metadata": {},
   "outputs": [
    {
     "data": {
      "text/plain": [
       "[21,\n",
       " 20,\n",
       " 19,\n",
       " 22,\n",
       " 20,\n",
       " 23,\n",
       " 21,\n",
       " 22,\n",
       " 21,\n",
       " 22,\n",
       " 22,\n",
       " 22,\n",
       " 19,\n",
       " 20,\n",
       " 25,\n",
       " 24,\n",
       " 20,\n",
       " 25,\n",
       " 24,\n",
       " 23,\n",
       " 22,\n",
       " 21,\n",
       " 20,\n",
       " 22]"
      ]
     },
     "execution_count": 9,
     "metadata": {},
     "output_type": "execute_result"
    }
   ],
   "source": [
    "Age"
   ]
  },
  {
   "cell_type": "code",
   "execution_count": 11,
   "id": "6496615e-6d68-4f24-aa58-40be642a05df",
   "metadata": {},
   "outputs": [],
   "source": [
    "import statistics\n"
   ]
  },
  {
   "cell_type": "code",
   "execution_count": 13,
   "id": "cad4b499-953c-4e3c-9b27-723918b6d127",
   "metadata": {},
   "outputs": [],
   "source": [
    "MEAN=statistics.mean(Age)"
   ]
  },
  {
   "cell_type": "code",
   "execution_count": 15,
   "id": "645ab1f0-0534-45f6-8205-5ecd8c8f4fa0",
   "metadata": {},
   "outputs": [
    {
     "data": {
      "text/plain": [
       "21.666666666666668"
      ]
     },
     "execution_count": 15,
     "metadata": {},
     "output_type": "execute_result"
    }
   ],
   "source": [
    "MEAN"
   ]
  },
  {
   "cell_type": "code",
   "execution_count": 17,
   "id": "9fc281a0-cbd3-482b-9a98-e9af678aad20",
   "metadata": {},
   "outputs": [],
   "source": [
    "Median=statistics.median(Age)"
   ]
  },
  {
   "cell_type": "code",
   "execution_count": 19,
   "id": "89a0e1ad-18c4-4537-9245-c03b0cd1ad95",
   "metadata": {},
   "outputs": [
    {
     "data": {
      "text/plain": [
       "22.0"
      ]
     },
     "execution_count": 19,
     "metadata": {},
     "output_type": "execute_result"
    }
   ],
   "source": [
    "Median"
   ]
  },
  {
   "cell_type": "code",
   "execution_count": 23,
   "id": "395fe2cf-1a55-46be-b057-97d112bfa0dc",
   "metadata": {},
   "outputs": [],
   "source": [
    "MODE=statistics.mode(Age)"
   ]
  },
  {
   "cell_type": "code",
   "execution_count": 25,
   "id": "9db656bf-21b3-4318-af11-90795b29f66a",
   "metadata": {},
   "outputs": [
    {
     "data": {
      "text/plain": [
       "22"
      ]
     },
     "execution_count": 25,
     "metadata": {},
     "output_type": "execute_result"
    }
   ],
   "source": [
    "\n",
    "MODE"
   ]
  },
  {
   "cell_type": "code",
   "execution_count": 27,
   "id": "56e4f21b-c510-4e90-a6d3-0f9bc0d28860",
   "metadata": {},
   "outputs": [],
   "source": [
    "MODE=statistics.mode(Age)"
   ]
  },
  {
   "cell_type": "code",
   "execution_count": null,
   "id": "c9f700da-7bdd-4234-93a2-4dd541e01873",
   "metadata": {},
   "outputs": [],
   "source": []
  }
 ],
 "metadata": {
  "kernelspec": {
   "display_name": "Python 3 (ipykernel)",
   "language": "python",
   "name": "python3"
  },
  "language_info": {
   "codemirror_mode": {
    "name": "ipython",
    "version": 3
   },
   "file_extension": ".py",
   "mimetype": "text/x-python",
   "name": "python",
   "nbconvert_exporter": "python",
   "pygments_lexer": "ipython3",
   "version": "3.12.4"
  }
 },
 "nbformat": 4,
 "nbformat_minor": 5
}
